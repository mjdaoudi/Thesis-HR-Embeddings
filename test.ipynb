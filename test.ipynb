{
 "cells": [
  {
   "cell_type": "code",
   "execution_count": 1,
   "metadata": {},
   "outputs": [],
   "source": [
    "import pandas as pd\n",
    "import gensim"
   ]
  },
  {
   "cell_type": "code",
   "execution_count": 2,
   "metadata": {},
   "outputs": [],
   "source": [
    "t = pd.read_pickle(\"data/jobDescription4.pkl\")\n",
    "text = t[\"Description_processed\"].apply(gensim.utils.simple_preprocess)"
   ]
  },
  {
   "cell_type": "code",
   "execution_count": 6,
   "metadata": {},
   "outputs": [],
   "source": [
    "model = gensim. models.FastText(\n",
    "    sentences=text, \n",
    "    vector_size=300,\n",
    "    window=15,\n",
    "    min_count=10,\n",
    "    workers=4\n",
    ")\n",
    "model.save(\"models/custom/FastText_300d.model\")"
   ]
  },
  {
   "cell_type": "code",
   "execution_count": 3,
   "metadata": {},
   "outputs": [],
   "source": [
    "model = gensim.models.Word2Vec(\n",
    "    sentences=text, \n",
    "    vector_size=300,\n",
    "    window=15,\n",
    "    min_count=10,\n",
    "    workers=4\n",
    ")\n",
    "model.save(\"models/custom/Word2Vec_300d.model\")"
   ]
  },
  {
   "cell_type": "code",
   "execution_count": 5,
   "metadata": {},
   "outputs": [
    {
     "data": {
      "text/plain": [
       "[('pandas', 0.6743684411048889),\n",
       " ('pyspark', 0.6333119869232178),\n",
       " ('scala', 0.6253077983856201),\n",
       " ('flask', 0.6234632730484009),\n",
       " ('sqlalchemy', 0.6211127042770386),\n",
       " ('numpy', 0.6177347302436829),\n",
       " ('tensorflow', 0.61696457862854),\n",
       " ('keras', 0.6124801635742188),\n",
       " ('ggplot', 0.605608344078064),\n",
       " ('matlab', 0.5970077514648438)]"
      ]
     },
     "execution_count": 5,
     "metadata": {},
     "output_type": "execute_result"
    }
   ],
   "source": [
    "model.wv.most_similar(\"python\")"
   ]
  }
 ],
 "metadata": {
  "kernelspec": {
   "display_name": "Python 3.7.13 ('thesis')",
   "language": "python",
   "name": "python3"
  },
  "language_info": {
   "codemirror_mode": {
    "name": "ipython",
    "version": 3
   },
   "file_extension": ".py",
   "mimetype": "text/x-python",
   "name": "python",
   "nbconvert_exporter": "python",
   "pygments_lexer": "ipython3",
   "version": "3.7.13"
  },
  "orig_nbformat": 4,
  "vscode": {
   "interpreter": {
    "hash": "b75524168a7629365e64c8aaac988d7faff873bd2e18d7e50a62762b40834f6d"
   }
  }
 },
 "nbformat": 4,
 "nbformat_minor": 2
}
